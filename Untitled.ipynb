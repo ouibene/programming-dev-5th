{
 "cells": [
  {
   "cell_type": "code",
   "execution_count": null,
   "metadata": {
    "collapsed": true
   },
   "outputs": [],
   "source": [
    "from blog.models import Post\n",
    "\n",
    "\n",
    "### DB Query 안날림.\n",
    "post_list = Post.objects.all()\n",
    "\n",
    "\n",
    "post = Post.objects.get(pk=1)\n",
    "\n",
    "### DB query 날리는거\n",
    "\n",
    "for e in Entry.objects.all():\n",
    "    print(e.headline)\n",
    "\n",
    "\n",
    "\n",
    "\n",
    "\n",
    "When QuerySets are evaluated¶\n",
    "\n",
    "Internally, a QuerySet can be constructed, filtered, sliced, and generally passed around without actually hitting the database. No database activity actually occurs until you do something to evaluate the queryset.\n",
    "\n",
    "You can evaluate a QuerySet in the following ways:\n",
    "\n",
    "Iteration. A QuerySet is iterable, and it executes its database query the first time you iterate over it. For example, this will print the headline of all entries in the database:\n",
    "\n",
    "for e in Entry.objects.all():\n",
    "    print(e.headline)\n",
    "Note: Don’t use this if all you want to do is determine if at least one result exists. It’s more efficient to use exists().\n",
    "\n",
    "Slicing. As explained in Limiting QuerySets, a QuerySet can be sliced, using Python’s array-slicing syntax. Slicing an unevaluated QuerySet usually returns another unevaluated QuerySet, but Django will execute the database query if you use the “step” parameter of slice syntax, and will return a list. Slicing a QuerySet that has been evaluated also returns a list.\n",
    "\n",
    "Also note that even though slicing an unevaluated QuerySet returns another unevaluated QuerySet, modifying it further (e.g., adding more filters, or modifying ordering) is not allowed, since that does not translate well into SQL and it would not have a clear meaning either.\n",
    "\n",
    "Pickling/Caching. See the following section for details of what is involved when pickling QuerySets. The important thing for the purposes of this section is that the results are read from the database.\n",
    "\n",
    "\n",
    "len(). A QuerySet is evaluated when you call len() on it. This, as you might expect, returns the length of the result list.\n",
    "\n",
    "Note: If you only need to determine the number of records in the set (and don’t need the actual objects), it’s much more efficient to handle a count at the database level using SQL’s SELECT COUNT(*). Django provides a count() method for precisely this reason.\n",
    "\n",
    "list(). Force evaluation of a QuerySet by calling list() on it. For example:\n",
    "\n",
    "entry_list = list(Entry.objects.all())\n",
    "bool(). Testing a QuerySet in a boolean context, such as using bool(), or, and or an if statement, will cause the query to be executed. If there is at least one result, the QuerySet is True, otherwise False. For example:\n",
    "\n",
    "if Entry.objects.filter(headline=\"Test\"):\n",
    "   print(\"There is at least one Entry with the headline Test\")\n",
    "Note: If you only want to determine if at least one result exists (and don’t need the actual objects), it’s more efficient to use exists().\n",
    "\n",
    "\n",
    "\n"
   ]
  }
 ],
 "metadata": {
  "kernelspec": {
   "display_name": "Python 3",
   "language": "python",
   "name": "python3"
  },
  "language_info": {
   "codemirror_mode": {
    "name": "ipython",
    "version": 3
   },
   "file_extension": ".py",
   "mimetype": "text/x-python",
   "name": "python",
   "nbconvert_exporter": "python",
   "pygments_lexer": "ipython3",
   "version": "3.5.1"
  }
 },
 "nbformat": 4,
 "nbformat_minor": 0
}
